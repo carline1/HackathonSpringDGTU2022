{
 "cells": [
  {
   "cell_type": "code",
   "execution_count": 2,
   "metadata": {},
   "outputs": [],
   "source": [
    "import pandas as pd\n",
    "import dpkt\n",
    "import os"
   ]
  },
  {
   "cell_type": "code",
   "execution_count": 62,
   "metadata": {},
   "outputs": [
    {
     "data": {
      "text/plain": [
       "0"
      ]
     },
     "execution_count": 62,
     "metadata": {},
     "output_type": "execute_result"
    }
   ],
   "source": [
    "# def read_pcap(file_path):\n",
    "# \tf = open(file_path)\n",
    "# try:\n",
    "#     pcap = dpkt.pcap.Reader(f) \n",
    "# except:\n",
    "#     pcap = dpkt.pcapng.Reader(f)\n",
    "# pcap = read_pcap('save_pcap.pcapng')\n",
    "in_file = 'save_pcap.pcapng'\n",
    "out_file = 'standart_traffic1.csv'\n",
    "os.system(\"tshark -r save_pcap.pcapng -T fields -e ip.src -e frame.len -e ip.proto -E header=y -E occurrence=f > standart_traffic.csv\")\n",
    "# os.system ('tshark -r save_pcap.pcapng >  standart_traffic.csv')\n",
    "# os.system ('pcap2csv --pcap save_pcap.pcapng  --csv standart_traffic.csv')\n",
    "# f_in = 'save_pcap.pcap'\n",
    "# f_out = 'standart_traffic.csv'\n",
    "# tshark_template = 'tshark -r {} -T fields -e frame.number -e frame.time -e eth.src -e eth.dst -e ip.src -e ip.dst -e ip.proto -E header=y -E separator=, -E quote=d -E occurrence=f > {}'\n",
    "# final_tshark_cmd = tshark_template.format(f_in,f_out)\n"
   ]
  },
  {
   "cell_type": "code",
   "execution_count": 63,
   "metadata": {},
   "outputs": [
    {
     "data": {
      "text/html": [
       "<div>\n",
       "<style scoped>\n",
       "    .dataframe tbody tr th:only-of-type {\n",
       "        vertical-align: middle;\n",
       "    }\n",
       "\n",
       "    .dataframe tbody tr th {\n",
       "        vertical-align: top;\n",
       "    }\n",
       "\n",
       "    .dataframe thead th {\n",
       "        text-align: right;\n",
       "    }\n",
       "</style>\n",
       "<table border=\"1\" class=\"dataframe\">\n",
       "  <thead>\n",
       "    <tr style=\"text-align: right;\">\n",
       "      <th></th>\n",
       "      <th>ip.src</th>\n",
       "      <th>frame.len</th>\n",
       "      <th>ip.proto</th>\n",
       "    </tr>\n",
       "  </thead>\n",
       "  <tbody>\n",
       "    <tr>\n",
       "      <th>0</th>\n",
       "      <td>192.168.64.231</td>\n",
       "      <td>75</td>\n",
       "      <td>17.0</td>\n",
       "    </tr>\n",
       "    <tr>\n",
       "      <th>1</th>\n",
       "      <td>18.188.31.0</td>\n",
       "      <td>109</td>\n",
       "      <td>17.0</td>\n",
       "    </tr>\n",
       "    <tr>\n",
       "      <th>2</th>\n",
       "      <td>192.168.64.61</td>\n",
       "      <td>135</td>\n",
       "      <td>17.0</td>\n",
       "    </tr>\n",
       "    <tr>\n",
       "      <th>3</th>\n",
       "      <td>192.168.64.231</td>\n",
       "      <td>66</td>\n",
       "      <td>6.0</td>\n",
       "    </tr>\n",
       "    <tr>\n",
       "      <th>4</th>\n",
       "      <td>192.168.64.231</td>\n",
       "      <td>66</td>\n",
       "      <td>6.0</td>\n",
       "    </tr>\n",
       "    <tr>\n",
       "      <th>...</th>\n",
       "      <td>...</td>\n",
       "      <td>...</td>\n",
       "      <td>...</td>\n",
       "    </tr>\n",
       "    <tr>\n",
       "      <th>10118</th>\n",
       "      <td>162.159.133.234</td>\n",
       "      <td>100</td>\n",
       "      <td>6.0</td>\n",
       "    </tr>\n",
       "    <tr>\n",
       "      <th>10119</th>\n",
       "      <td>192.168.64.231</td>\n",
       "      <td>54</td>\n",
       "      <td>6.0</td>\n",
       "    </tr>\n",
       "    <tr>\n",
       "      <th>10120</th>\n",
       "      <td>162.159.133.234</td>\n",
       "      <td>101</td>\n",
       "      <td>6.0</td>\n",
       "    </tr>\n",
       "    <tr>\n",
       "      <th>10121</th>\n",
       "      <td>192.168.64.231</td>\n",
       "      <td>54</td>\n",
       "      <td>6.0</td>\n",
       "    </tr>\n",
       "    <tr>\n",
       "      <th>10122</th>\n",
       "      <td>162.159.133.234</td>\n",
       "      <td>100</td>\n",
       "      <td>6.0</td>\n",
       "    </tr>\n",
       "  </tbody>\n",
       "</table>\n",
       "<p>10123 rows × 3 columns</p>\n",
       "</div>"
      ],
      "text/plain": [
       "                ip.src  frame.len  ip.proto\n",
       "0       192.168.64.231         75      17.0\n",
       "1          18.188.31.0        109      17.0\n",
       "2        192.168.64.61        135      17.0\n",
       "3       192.168.64.231         66       6.0\n",
       "4       192.168.64.231         66       6.0\n",
       "...                ...        ...       ...\n",
       "10118  162.159.133.234        100       6.0\n",
       "10119   192.168.64.231         54       6.0\n",
       "10120  162.159.133.234        101       6.0\n",
       "10121   192.168.64.231         54       6.0\n",
       "10122  162.159.133.234        100       6.0\n",
       "\n",
       "[10123 rows x 3 columns]"
      ]
     },
     "execution_count": 63,
     "metadata": {},
     "output_type": "execute_result"
    }
   ],
   "source": [
    "import pandas\n",
    "\n",
    "pandas.read_csv(\"standart_traffic.csv\", sep=\"\\t\")"
   ]
  },
  {
   "cell_type": "code",
   "execution_count": null,
   "metadata": {},
   "outputs": [],
   "source": []
  }
 ],
 "metadata": {
  "interpreter": {
   "hash": "7b4b4feff2f24a0f0a34464dbe537a36fda679851528fb8735cb41fa49dffb2d"
  },
  "kernelspec": {
   "display_name": "Python 3.8.3 ('base')",
   "language": "python",
   "name": "python3"
  },
  "language_info": {
   "codemirror_mode": {
    "name": "ipython",
    "version": 3
   },
   "file_extension": ".py",
   "mimetype": "text/x-python",
   "name": "python",
   "nbconvert_exporter": "python",
   "pygments_lexer": "ipython3",
   "version": "3.8.3"
  },
  "orig_nbformat": 4
 },
 "nbformat": 4,
 "nbformat_minor": 2
}
